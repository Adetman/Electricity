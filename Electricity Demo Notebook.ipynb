{
 "cells": [
  {
   "cell_type": "markdown",
   "id": "ee19b454",
   "metadata": {},
   "source": [
    "# Format of Dataset"
   ]
  },
  {
   "cell_type": "markdown",
   "id": "cf850c94",
   "metadata": {},
   "source": [
    "This dataset is for a single household (out of a pool of households). It is a csv file that contains timestamps, aggregated reading in watts, and disaggregated readings for each applicance. "
   ]
  },
  {
   "cell_type": "markdown",
   "id": "ca68bdf9",
   "metadata": {},
   "source": [
    "# Read in the Dataset"
   ]
  },
  {
   "cell_type": "code",
   "execution_count": 2,
   "id": "fbeb6895",
   "metadata": {},
   "outputs": [],
   "source": [
    "import pandas as pd\n",
    "import numpy as np\n",
    "from matplotlib import pyplot as plt\n",
    "%matplotlib inline\n",
    "import seaborn as sns"
   ]
  },
  {
   "cell_type": "code",
   "execution_count": 10,
   "id": "1caa267a",
   "metadata": {},
   "outputs": [
    {
     "data": {
      "text/html": [
       "<div>\n",
       "<style scoped>\n",
       "    .dataframe tbody tr th:only-of-type {\n",
       "        vertical-align: middle;\n",
       "    }\n",
       "\n",
       "    .dataframe tbody tr th {\n",
       "        vertical-align: top;\n",
       "    }\n",
       "\n",
       "    .dataframe thead th {\n",
       "        text-align: right;\n",
       "    }\n",
       "</style>\n",
       "<table border=\"1\" class=\"dataframe\">\n",
       "  <thead>\n",
       "    <tr style=\"text-align: right;\">\n",
       "      <th></th>\n",
       "      <th>Time</th>\n",
       "      <th>Aggregate</th>\n",
       "      <th>Fridge-Freezer</th>\n",
       "      <th>Washing Machine</th>\n",
       "      <th>Dishwasher</th>\n",
       "      <th>Television Site</th>\n",
       "      <th>Microwave</th>\n",
       "      <th>Toaster</th>\n",
       "      <th>Hi-Fi</th>\n",
       "      <th>Kettle</th>\n",
       "      <th>Overhead Fan</th>\n",
       "    </tr>\n",
       "  </thead>\n",
       "  <tbody>\n",
       "    <tr>\n",
       "      <th>0</th>\n",
       "      <td>17/09/2013 22:08</td>\n",
       "      <td>695</td>\n",
       "      <td>88</td>\n",
       "      <td>0</td>\n",
       "      <td>0</td>\n",
       "      <td>0</td>\n",
       "      <td>0</td>\n",
       "      <td>0</td>\n",
       "      <td>0</td>\n",
       "      <td>0</td>\n",
       "      <td>0</td>\n",
       "    </tr>\n",
       "    <tr>\n",
       "      <th>1</th>\n",
       "      <td>17/09/2013 22:08</td>\n",
       "      <td>694</td>\n",
       "      <td>88</td>\n",
       "      <td>0</td>\n",
       "      <td>0</td>\n",
       "      <td>0</td>\n",
       "      <td>0</td>\n",
       "      <td>0</td>\n",
       "      <td>0</td>\n",
       "      <td>0</td>\n",
       "      <td>0</td>\n",
       "    </tr>\n",
       "    <tr>\n",
       "      <th>2</th>\n",
       "      <td>17/09/2013 22:08</td>\n",
       "      <td>694</td>\n",
       "      <td>88</td>\n",
       "      <td>0</td>\n",
       "      <td>0</td>\n",
       "      <td>0</td>\n",
       "      <td>0</td>\n",
       "      <td>0</td>\n",
       "      <td>0</td>\n",
       "      <td>0</td>\n",
       "      <td>0</td>\n",
       "    </tr>\n",
       "    <tr>\n",
       "      <th>3</th>\n",
       "      <td>17/09/2013 22:08</td>\n",
       "      <td>702</td>\n",
       "      <td>88</td>\n",
       "      <td>0</td>\n",
       "      <td>0</td>\n",
       "      <td>0</td>\n",
       "      <td>0</td>\n",
       "      <td>0</td>\n",
       "      <td>0</td>\n",
       "      <td>0</td>\n",
       "      <td>0</td>\n",
       "    </tr>\n",
       "    <tr>\n",
       "      <th>4</th>\n",
       "      <td>17/09/2013 22:08</td>\n",
       "      <td>700</td>\n",
       "      <td>88</td>\n",
       "      <td>0</td>\n",
       "      <td>0</td>\n",
       "      <td>0</td>\n",
       "      <td>0</td>\n",
       "      <td>0</td>\n",
       "      <td>0</td>\n",
       "      <td>0</td>\n",
       "      <td>0</td>\n",
       "    </tr>\n",
       "  </tbody>\n",
       "</table>\n",
       "</div>"
      ],
      "text/plain": [
       "               Time  Aggregate  Fridge-Freezer  Washing Machine  Dishwasher  \\\n",
       "0  17/09/2013 22:08        695              88                0           0   \n",
       "1  17/09/2013 22:08        694              88                0           0   \n",
       "2  17/09/2013 22:08        694              88                0           0   \n",
       "3  17/09/2013 22:08        702              88                0           0   \n",
       "4  17/09/2013 22:08        700              88                0           0   \n",
       "\n",
       "   Television Site  Microwave  Toaster  Hi-Fi  Kettle  Overhead Fan  \n",
       "0                0          0        0      0       0             0  \n",
       "1                0          0        0      0       0             0  \n",
       "2                0          0        0      0       0             0  \n",
       "3                0          0        0      0       0             0  \n",
       "4                0          0        0      0       0             0  "
      ]
     },
     "execution_count": 10,
     "metadata": {},
     "output_type": "execute_result"
    }
   ],
   "source": [
    "df = pd.read_csv(\"appliancesload.csv\")\n",
    "df.head()"
   ]
  },
  {
   "cell_type": "markdown",
   "id": "6451c3b6",
   "metadata": {},
   "source": [
    "# You can Group by hour of the day"
   ]
  },
  {
   "cell_type": "code",
   "execution_count": null,
   "id": "9189e05a",
   "metadata": {},
   "outputs": [],
   "source": [
    "# Different applicances in different hours of a day\n",
    "by_hours_df = df.iloc[:, 2:].groupby(df.index.hour).mean()"
   ]
  },
  {
   "cell_type": "markdown",
   "id": "1d63f3f0",
   "metadata": {},
   "source": [
    "# Sample Stacked Area Chart"
   ]
  },
  {
   "cell_type": "markdown",
   "id": "f941247c",
   "metadata": {},
   "source": [
    "You can do stacked area chart showing the (averaged) readings of each appliance in each hour of a day"
   ]
  },
  {
   "cell_type": "code",
   "execution_count": null,
   "id": "40ba4f38",
   "metadata": {},
   "outputs": [],
   "source": [
    "# Set size of plot\n",
    "fig, ax = plt.subplots()\n",
    "fig.set_size_inches(11.7, 8.27)\n",
    "# Stackplot\n",
    "ax.stackplot(list(range(24)), np.transpose(by_hours_df.values), labels=by_hours_df.columns.values)\n",
    "plt.xlabel('Hour in a day', fontsize=18)\n",
    "plt.ylabel('Watts averaged per hour', fontsize=18)\n",
    "plt.xticks(np.arange(0, 24, 1.0))\n",
    "ax.legend(loc=2)"
   ]
  },
  {
   "cell_type": "markdown",
   "id": "cf3a9d5e",
   "metadata": {},
   "source": [
    "# You can show Active Hours of Different Appliances"
   ]
  },
  {
   "cell_type": "code",
   "execution_count": null,
   "id": "aaa726bc",
   "metadata": {},
   "outputs": [],
   "source": [
    "plt.subplot(241)\n",
    "# Usage of various appliances\n",
    "plt.plot(list(range(24)), by_hours_df['Fridge-Freezer'].values)\n",
    "plt.title('Fridge Freezer')\n",
    "\n",
    "plt.subplot(242)\n",
    "# Usage of various appliances\n",
    "plt.plot(list(range(24)), by_hours_df['Washing Machine'].values)\n",
    "plt.title('Washing Machine')\n",
    "\n",
    "plt.subplot(243)\n",
    "# Usage of various appliances\n",
    "plt.plot(list(range(24)), by_hours_df['Dishwasher'].values)\n",
    "plt.title('Dishwasher')\n",
    "\n",
    "plt.subplot(244)\n",
    "# Usage of various appliances\n",
    "plt.plot(list(range(24)), by_hours_df['Television Site'].values)\n",
    "plt.title('Television Site')\n",
    "\n",
    "plt.subplot(245)\n",
    "# Usage of various appliances\n",
    "plt.plot(list(range(24)), by_hours_df['Microwave'].values)\n",
    "plt.title('Microwave')\n",
    "\n",
    "plt.subplot(246)\n",
    "# Usage of various appliances\n",
    "plt.plot(list(range(24)), by_hours_df['Toaster'].values)\n",
    "plt.title('Toaster')\n",
    "\n",
    "plt.subplot(247)\n",
    "# Usage of various appliances\n",
    "plt.plot(list(range(24)), by_hours_df['Hi-Fi'].values)\n",
    "plt.title('Hi-Fi')\n",
    "\n",
    "plt.subplot(248)\n",
    "# Usage of various appliances\n",
    "plt.plot(list(range(24)), by_hours_df['Kettle'].values)\n",
    "plt.title('Kettle')"
   ]
  }
 ],
 "metadata": {
  "kernelspec": {
   "display_name": "Python 3 (ipykernel)",
   "language": "python",
   "name": "python3"
  },
  "language_info": {
   "codemirror_mode": {
    "name": "ipython",
    "version": 3
   },
   "file_extension": ".py",
   "mimetype": "text/x-python",
   "name": "python",
   "nbconvert_exporter": "python",
   "pygments_lexer": "ipython3",
   "version": "3.9.12"
  }
 },
 "nbformat": 4,
 "nbformat_minor": 5
}
